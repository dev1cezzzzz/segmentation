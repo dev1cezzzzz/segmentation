{
 "cells": [
  {
   "cell_type": "markdown",
   "id": "cffdd5d6-3712-45d2-b5c0-cbb48b5f377d",
   "metadata": {},
   "source": [
    "# Обучение моделей в Pytorch"
   ]
  },
  {
   "cell_type": "code",
   "id": "2fc18f6a-31c9-4ff1-b7a7-02a7a13f85cd",
   "metadata": {
    "ExecuteTime": {
     "end_time": "2024-04-19T19:00:53.012737Z",
     "start_time": "2024-04-19T19:00:53.008254Z"
    }
   },
   "source": [
    "import os\n",
    "import random\n",
    "from os.path import join as pjoin\n",
    "from shutil import rmtree\n",
    "\n",
    "import albumentations\n",
    "import numpy as np\n",
    "import torch\n",
    "from accelerate import Accelerator\n",
    "from albumentations.pytorch.transforms import ToTensorV2\n",
    "from dataset import CustomDataset\n",
    "from matplotlib import pyplot as plt\n",
    "from PIL import Image\n",
    "from torch import nn\n",
    "from torch.nn import functional as F\n",
    "from torch.utils.data import DataLoader\n",
    "from torch.utils.tensorboard import SummaryWriter\n",
    "from torchvision import datasets\n",
    "from train import (\n",
    "    CheckpointSaver,\n",
    "    IoUMetric,\n",
    "    MulticlassCrossEntropyLoss,\n",
    "    MulticlassDiceLoss,\n",
    "    load_checkpoint,\n",
    "    train,\n",
    ")\n",
    "from unet import UNet, count_model_params"
   ],
   "outputs": [],
   "execution_count": 33
  },
  {
   "cell_type": "code",
   "id": "12069a41-bbcb-4292-931b-27c367515ef8",
   "metadata": {
    "ExecuteTime": {
     "end_time": "2024-04-19T19:00:53.079300Z",
     "start_time": "2024-04-19T19:00:53.074751Z"
    }
   },
   "source": [
    "def seed_everything(seed: int = 314159, torch_deterministic: bool = False) -> None:\n",
    "    os.environ[\"PYTHONHASHSEED\"] = str(seed)\n",
    "    random.seed(seed)\n",
    "    np.random.seed(seed)\n",
    "    torch.manual_seed(seed)\n",
    "    torch.cuda.manual_seed(seed)\n",
    "    torch.use_deterministic_algorithms(torch_deterministic)\n",
    "\n",
    "\n",
    "seed_everything(42, torch_deterministic=False)"
   ],
   "outputs": [],
   "execution_count": 34
  },
  {
   "cell_type": "markdown",
   "id": "40d17238-f92d-4347-a84e-91b2f37598bc",
   "metadata": {},
   "source": "## Аугментации"
  },
  {
   "metadata": {},
   "cell_type": "markdown",
   "source": [
    "Трансформации/аугментации для исходных изображений и масок/таргетов.\n",
    "\n",
    "Аугментации для задач компьютерного хрения: https://albumentations.ai/"
   ],
   "id": "b0959cf2-ad28-4ae5-84f9-02fd7beb6190"
  },
  {
   "cell_type": "code",
   "id": "662c1e5a-ca36-4b9f-802a-da8e3786c5b3",
   "metadata": {
    "ExecuteTime": {
     "end_time": "2024-04-19T19:00:53.108181Z",
     "start_time": "2024-04-19T19:00:53.103311Z"
    }
   },
   "source": [
    "IMAGE_SIZE = 256\n",
    "transforms = albumentations.Compose(\n",
    "    [\n",
    "        albumentations.Resize(height=IMAGE_SIZE, width=IMAGE_SIZE),\n",
    "        albumentations.AdvancedBlur(p=0.5),\n",
    "        albumentations.GaussNoise(p=0.5),\n",
    "        albumentations.HorizontalFlip(p=0.5),\n",
    "        albumentations.CLAHE(p=0.5),\n",
    "        albumentations.RandomBrightnessContrast(p=0.5),\n",
    "        albumentations.RandomGamma(p=0.5),\n",
    "        albumentations.ColorJitter(p=0.5),\n",
    "        ToTensorV2(),\n",
    "    ]\n",
    ")"
   ],
   "outputs": [],
   "execution_count": 35
  },
  {
   "cell_type": "markdown",
   "id": "a88cc6ba-7bbf-403f-acca-b6b1e6978d45",
   "metadata": {},
   "source": [
    "## Dataset"
   ]
  },
  {
   "cell_type": "code",
   "id": "d5f057bd-99cc-4053-86a5-af4feaa556be",
   "metadata": {
    "ExecuteTime": {
     "end_time": "2024-04-19T19:00:53.134787Z",
     "start_time": "2024-04-19T19:00:53.120195Z"
    }
   },
   "source": [
    "image_paths = [\"C:/Segmentation/images/2007_000032.jpg\"]\n",
    "mask_paths = [\"C:/Segmentation/masks/2007_000032.png\"]\n",
    "custom_dataset = CustomDataset(image_paths, mask_paths, transform=transforms)\n",
    "len(custom_dataset)\n",
    "image, target = custom_dataset[0]\n",
    "Image.fromarray(image.numpy().astype(np.uint8).transpose(1, 2, 0))\n"
   ],
   "outputs": [
    {
     "data": {
      "text/plain": [
       "<PIL.Image.Image image mode=RGB size=256x256>"
      ],
      "image/png": "[encoded data removed]",
      "image/jpeg": "[encoded data removed]"
     },
     "execution_count": 36,
     "metadata": {},
     "output_type": "execute_result"
    }
   ],
   "execution_count": 36
  },
  {
   "cell_type": "code",
   "id": "87df0ac5-850f-4372-8d2a-31c8f6988e7e",
   "metadata": {
    "ExecuteTime": {
     "end_time": "2024-04-19T19:00:53.156443Z",
     "start_time": "2024-04-19T19:00:53.149797Z"
    }
   },
   "source": "Image.fromarray(target.numpy().astype(np.uint8).transpose(1, 2, 0))",
   "outputs": [
    {
     "data": {
      "text/plain": [
       "<PIL.Image.Image image mode=RGB size=256x256>"
      ],
      "image/png": "[encoded data removed]",
      "image/jpeg": "[encoded data removed]"
     },
     "execution_count": 37,
     "metadata": {},
     "output_type": "execute_result"
    }
   ],
   "execution_count": 37
  },
  {
   "cell_type": "code",
   "id": "a88e21f6-543f-47a2-97ef-781a0a997449",
   "metadata": {
    "ExecuteTime": {
     "end_time": "2024-04-19T19:00:53.214229Z",
     "start_time": "2024-04-19T19:00:53.195451Z"
    }
   },
   "source": [
    "train_dataset = CustomVOCSegmentation(\n",
    "    root=\"data\",\n",
    "    year=\"2012\",\n",
    "    image_set=\"train\",\n",
    "    download=False,\n",
    "    transform=transforms,  # transform!\n",
    ")\n",
    "\n",
    "val_dataset = CustomVOCSegmentation(\n",
    "    root=\"data\",\n",
    "    year=\"2012\",\n",
    "    image_set=\"val\",\n",
    "    download=False,\n",
    "    transform=transforms,  # transform!\n",
    ")"
   ],
   "outputs": [
    {
     "ename": "NameError",
     "evalue": "name 'CustomVOCSegmentation' is not defined",
     "output_type": "error",
     "traceback": [
      "\u001B[1;31m---------------------------------------------------------------------------\u001B[0m",
      "\u001B[1;31mNameError\u001B[0m                                 Traceback (most recent call last)",
      "Cell \u001B[1;32mIn[38], line 1\u001B[0m\n\u001B[1;32m----> 1\u001B[0m train_dataset \u001B[38;5;241m=\u001B[39m \u001B[43mCustomVOCSegmentation\u001B[49m(\n\u001B[0;32m      2\u001B[0m     root\u001B[38;5;241m=\u001B[39m\u001B[38;5;124m\"\u001B[39m\u001B[38;5;124mdata\u001B[39m\u001B[38;5;124m\"\u001B[39m,\n\u001B[0;32m      3\u001B[0m     year\u001B[38;5;241m=\u001B[39m\u001B[38;5;124m\"\u001B[39m\u001B[38;5;124m2012\u001B[39m\u001B[38;5;124m\"\u001B[39m,\n\u001B[0;32m      4\u001B[0m     image_set\u001B[38;5;241m=\u001B[39m\u001B[38;5;124m\"\u001B[39m\u001B[38;5;124mtrain\u001B[39m\u001B[38;5;124m\"\u001B[39m,\n\u001B[0;32m      5\u001B[0m     download\u001B[38;5;241m=\u001B[39m\u001B[38;5;28;01mFalse\u001B[39;00m,\n\u001B[0;32m      6\u001B[0m     transform\u001B[38;5;241m=\u001B[39mtransforms,  \u001B[38;5;66;03m# transform!\u001B[39;00m\n\u001B[0;32m      7\u001B[0m )\n\u001B[0;32m      9\u001B[0m val_dataset \u001B[38;5;241m=\u001B[39m CustomVOCSegmentation(\n\u001B[0;32m     10\u001B[0m     root\u001B[38;5;241m=\u001B[39m\u001B[38;5;124m\"\u001B[39m\u001B[38;5;124mdata\u001B[39m\u001B[38;5;124m\"\u001B[39m,\n\u001B[0;32m     11\u001B[0m     year\u001B[38;5;241m=\u001B[39m\u001B[38;5;124m\"\u001B[39m\u001B[38;5;124m2012\u001B[39m\u001B[38;5;124m\"\u001B[39m,\n\u001B[1;32m   (...)\u001B[0m\n\u001B[0;32m     14\u001B[0m     transform\u001B[38;5;241m=\u001B[39mtransforms,  \u001B[38;5;66;03m# transform!\u001B[39;00m\n\u001B[0;32m     15\u001B[0m )\n",
      "\u001B[1;31mNameError\u001B[0m: name 'CustomVOCSegmentation' is not defined"
     ]
    }
   ],
   "execution_count": 38
  },
  {
   "cell_type": "code",
   "id": "20f09949-7e66-43d9-824b-0595a09f3a02",
   "metadata": {},
   "source": [
    "image, target = train_dataset[0]\n",
    "Image.fromarray(image.numpy().astype(np.uint8).transpose(1, 2, 0))"
   ],
   "outputs": [],
   "execution_count": null
  },
  {
   "cell_type": "code",
   "id": "35db8825-5df7-4383-b1e2-5668b1dcd685",
   "metadata": {
    "ExecuteTime": {
     "end_time": "2024-04-19T19:00:53.235932Z",
     "start_time": "2024-04-19T19:00:53.217237Z"
    }
   },
   "source": [
    "Image.fromarray(255 * target[15, :, :].numpy().astype(np.uint8))"
   ],
   "outputs": [
    {
     "ename": "IndexError",
     "evalue": "index 15 is out of bounds for dimension 0 with size 3",
     "output_type": "error",
     "traceback": [
      "\u001B[1;31m---------------------------------------------------------------------------\u001B[0m",
      "\u001B[1;31mIndexError\u001B[0m                                Traceback (most recent call last)",
      "Cell \u001B[1;32mIn[39], line 1\u001B[0m\n\u001B[1;32m----> 1\u001B[0m Image\u001B[38;5;241m.\u001B[39mfromarray(\u001B[38;5;241m255\u001B[39m \u001B[38;5;241m*\u001B[39m \u001B[43mtarget\u001B[49m\u001B[43m[\u001B[49m\u001B[38;5;241;43m15\u001B[39;49m\u001B[43m,\u001B[49m\u001B[43m \u001B[49m\u001B[43m:\u001B[49m\u001B[43m,\u001B[49m\u001B[43m \u001B[49m\u001B[43m:\u001B[49m\u001B[43m]\u001B[49m\u001B[38;5;241m.\u001B[39mnumpy()\u001B[38;5;241m.\u001B[39mastype(np\u001B[38;5;241m.\u001B[39muint8))\n",
      "\u001B[1;31mIndexError\u001B[0m: index 15 is out of bounds for dimension 0 with size 3"
     ]
    }
   ],
   "execution_count": 39
  },
  {
   "cell_type": "markdown",
   "id": "bc77e07d-9b6c-4ee7-a4ac-bc37b6b77344",
   "metadata": {},
   "source": [
    "## UNet model"
   ]
  },
  {
   "cell_type": "code",
   "id": "73a84d99-23f3-45a7-8ecd-cafcaab21224",
   "metadata": {},
   "source": [
    "model = UNet(in_channels=3, out_channels=21)\n",
    "print(model)"
   ],
   "outputs": [],
   "execution_count": null
  },
  {
   "cell_type": "code",
   "id": "a77d6128-a241-4e0b-8cfa-9b8636b5f5c1",
   "metadata": {
    "ExecuteTime": {
     "end_time": "2024-04-19T19:00:53.293Z",
     "start_time": "2024-04-19T19:00:53.275939Z"
    }
   },
   "source": [
    "count_model_params(model)"
   ],
   "outputs": [
    {
     "ename": "NameError",
     "evalue": "name 'model' is not defined",
     "output_type": "error",
     "traceback": [
      "\u001B[1;31m---------------------------------------------------------------------------\u001B[0m",
      "\u001B[1;31mNameError\u001B[0m                                 Traceback (most recent call last)",
      "Cell \u001B[1;32mIn[40], line 1\u001B[0m\n\u001B[1;32m----> 1\u001B[0m count_model_params(\u001B[43mmodel\u001B[49m)\n",
      "\u001B[1;31mNameError\u001B[0m: name 'model' is not defined"
     ]
    }
   ],
   "execution_count": 40
  },
  {
   "cell_type": "markdown",
   "id": "b2b22de3-372a-48d9-ac36-95ac41dbee39",
   "metadata": {},
   "source": [
    "## Accelerator"
   ]
  },
  {
   "cell_type": "code",
   "id": "67ca43ec-8ee3-4f92-9537-dba305bd18f8",
   "metadata": {
    "ExecuteTime": {
     "end_time": "2024-04-19T19:00:53.294010Z",
     "start_time": "2024-04-19T19:00:53.294010Z"
    }
   },
   "source": [
    "accelerator = Accelerator(cpu=False, mixed_precision=\"fp16\")"
   ],
   "outputs": [],
   "execution_count": null
  },
  {
   "cell_type": "markdown",
   "id": "658bce9e-3f9d-46ed-9950-1d0a66e5376f",
   "metadata": {},
   "source": [
    "## Обучаем модель"
   ]
  },
  {
   "cell_type": "code",
   "id": "7b04b29f-46ff-45aa-9cba-5a6f03c72470",
   "metadata": {
    "ExecuteTime": {
     "end_time": "2024-04-19T19:00:53.311317Z",
     "start_time": "2024-04-19T19:00:53.307013Z"
    }
   },
   "source": [
    "LEARNING_RATE = 1e-4\n",
    "BATCH_SIZE = 4\n",
    "NUM_WORKERS = 2\n",
    "EPOCH_NUM = 20\n",
    "CHECKPOINTS_DIR = \"checkpoints\"\n",
    "TENSORBOARD_DIR = \"tensorboard\"\n",
    "RM_CHECKPOINTS_DIR = False\n",
    "\n",
    "DEVICE = \"cuda\" if torch.cuda.is_available() else \"cpu\""
   ],
   "outputs": [],
   "execution_count": 41
  },
  {
   "cell_type": "code",
   "id": "f24b17ad-99e7-4346-a5a4-38303c48221d",
   "metadata": {
    "ExecuteTime": {
     "end_time": "2024-04-19T19:00:53.347336Z",
     "start_time": "2024-04-19T19:00:53.325323Z"
    }
   },
   "source": [
    "train_dataloader = DataLoader(\n",
    "    train_dataset, batch_size=BATCH_SIZE, num_workers=NUM_WORKERS, shuffle=True\n",
    ")\n",
    "val_dataloader = DataLoader(\n",
    "    val_dataset, batch_size=BATCH_SIZE, num_workers=NUM_WORKERS, shuffle=True\n",
    ")\n",
    "\n",
    "model = UNet(in_channels=3, out_channels=21)\n",
    "\n",
    "loss_fn = MulticlassCrossEntropyLoss(ignore_index=0)  # MulticlassDiceLoss()\n",
    "optimizer = torch.optim.AdamW(model.parameters(), lr=LEARNING_RATE)\n",
    "lr_scheduler = torch.optim.lr_scheduler.StepLR(\n",
    "    optimizer=optimizer, step_size=5, gamma=0.8\n",
    ")\n",
    "metric_fn = loss_fn\n",
    "\n",
    "os.makedirs(CHECKPOINTS_DIR, exist_ok=True)\n",
    "checkpointer = CheckpointSaver(\n",
    "    accelerator=accelerator,\n",
    "    model=model,\n",
    "    metric_name=\"DICE\",\n",
    "    save_dir=CHECKPOINTS_DIR,\n",
    "    rm_save_dir=RM_CHECKPOINTS_DIR,\n",
    "    max_history=5,\n",
    "    should_minimize=True,\n",
    ")"
   ],
   "outputs": [
    {
     "ename": "NameError",
     "evalue": "name 'train_dataset' is not defined",
     "output_type": "error",
     "traceback": [
      "\u001B[1;31m---------------------------------------------------------------------------\u001B[0m",
      "\u001B[1;31mNameError\u001B[0m                                 Traceback (most recent call last)",
      "Cell \u001B[1;32mIn[42], line 2\u001B[0m\n\u001B[0;32m      1\u001B[0m train_dataloader \u001B[38;5;241m=\u001B[39m DataLoader(\n\u001B[1;32m----> 2\u001B[0m     \u001B[43mtrain_dataset\u001B[49m, batch_size\u001B[38;5;241m=\u001B[39mBATCH_SIZE, num_workers\u001B[38;5;241m=\u001B[39mNUM_WORKERS, shuffle\u001B[38;5;241m=\u001B[39m\u001B[38;5;28;01mTrue\u001B[39;00m\n\u001B[0;32m      3\u001B[0m )\n\u001B[0;32m      4\u001B[0m val_dataloader \u001B[38;5;241m=\u001B[39m DataLoader(\n\u001B[0;32m      5\u001B[0m     val_dataset, batch_size\u001B[38;5;241m=\u001B[39mBATCH_SIZE, num_workers\u001B[38;5;241m=\u001B[39mNUM_WORKERS, shuffle\u001B[38;5;241m=\u001B[39m\u001B[38;5;28;01mTrue\u001B[39;00m\n\u001B[0;32m      6\u001B[0m )\n\u001B[0;32m      8\u001B[0m model \u001B[38;5;241m=\u001B[39m UNet(in_channels\u001B[38;5;241m=\u001B[39m\u001B[38;5;241m3\u001B[39m, out_channels\u001B[38;5;241m=\u001B[39m\u001B[38;5;241m21\u001B[39m)\n",
      "\u001B[1;31mNameError\u001B[0m: name 'train_dataset' is not defined"
     ]
    }
   ],
   "execution_count": 42
  },
  {
   "cell_type": "code",
   "id": "83c16bbd-6ca0-4663-ab75-ea46492447b9",
   "metadata": {
    "ExecuteTime": {
     "end_time": "2024-04-19T19:00:53.357457Z",
     "start_time": "2024-04-19T19:00:53.352350Z"
    }
   },
   "source": [
    "# !pip install tensorboard\n",
    "# tensorboard_logger = None\n",
    "\n",
    "os.makedirs(TENSORBOARD_DIR, exist_ok=True)\n",
    "tensorboard_logger = torch.utils.tensorboard.SummaryWriter(log_dir=TENSORBOARD_DIR)"
   ],
   "outputs": [],
   "execution_count": 43
  },
  {
   "cell_type": "code",
   "id": "1d830ff9-3e9e-4f0b-995c-128060eee0e9",
   "metadata": {
    "ExecuteTime": {
     "end_time": "2024-04-19T19:00:53.385137Z",
     "start_time": "2024-04-19T19:00:53.367470Z"
    }
   },
   "source": [
    "# акселерируем\n",
    "model, optimizer, train_dataloader, val_dataloader, lr_scheduler = accelerator.prepare(\n",
    "    model, optimizer, train_dataloader, val_dataloader, lr_scheduler\n",
    ")"
   ],
   "outputs": [
    {
     "ename": "NameError",
     "evalue": "name 'accelerator' is not defined",
     "output_type": "error",
     "traceback": [
      "\u001B[1;31m---------------------------------------------------------------------------\u001B[0m",
      "\u001B[1;31mNameError\u001B[0m                                 Traceback (most recent call last)",
      "Cell \u001B[1;32mIn[44], line 2\u001B[0m\n\u001B[0;32m      1\u001B[0m \u001B[38;5;66;03m# акселерируем\u001B[39;00m\n\u001B[1;32m----> 2\u001B[0m model, optimizer, train_dataloader, val_dataloader, lr_scheduler \u001B[38;5;241m=\u001B[39m \u001B[43maccelerator\u001B[49m\u001B[38;5;241m.\u001B[39mprepare(\n\u001B[0;32m      3\u001B[0m     model, optimizer, train_dataloader, val_dataloader, lr_scheduler\n\u001B[0;32m      4\u001B[0m )\n",
      "\u001B[1;31mNameError\u001B[0m: name 'accelerator' is not defined"
     ]
    }
   ],
   "execution_count": 44
  },
  {
   "cell_type": "code",
   "id": "2f1cea82-a47b-4b74-a0e5-22de5bd3c9f4",
   "metadata": {
    "ExecuteTime": {
     "end_time": "2024-04-19T19:00:53.403579Z",
     "start_time": "2024-04-19T19:00:53.386147Z"
    }
   },
   "source": [
    "train(\n",
    "    model=model,\n",
    "    optimizer=optimizer,\n",
    "    train_dataloader=train_dataloader,\n",
    "    val_dataloader=val_dataloader,\n",
    "    loss_function=loss_fn,\n",
    "    metric_function=metric_fn,\n",
    "    lr_scheduler=lr_scheduler,\n",
    "    accelerator=accelerator,\n",
    "    epoch_num=EPOCH_NUM,\n",
    "    checkpointer=checkpointer,\n",
    "    tb_logger=tensorboard_logger,\n",
    "    save_on_val=True,\n",
    ")"
   ],
   "outputs": [
    {
     "ename": "NameError",
     "evalue": "name 'model' is not defined",
     "output_type": "error",
     "traceback": [
      "\u001B[1;31m---------------------------------------------------------------------------\u001B[0m",
      "\u001B[1;31mNameError\u001B[0m                                 Traceback (most recent call last)",
      "Cell \u001B[1;32mIn[45], line 2\u001B[0m\n\u001B[0;32m      1\u001B[0m train(\n\u001B[1;32m----> 2\u001B[0m     model\u001B[38;5;241m=\u001B[39m\u001B[43mmodel\u001B[49m,\n\u001B[0;32m      3\u001B[0m     optimizer\u001B[38;5;241m=\u001B[39moptimizer,\n\u001B[0;32m      4\u001B[0m     train_dataloader\u001B[38;5;241m=\u001B[39mtrain_dataloader,\n\u001B[0;32m      5\u001B[0m     val_dataloader\u001B[38;5;241m=\u001B[39mval_dataloader,\n\u001B[0;32m      6\u001B[0m     loss_function\u001B[38;5;241m=\u001B[39mloss_fn,\n\u001B[0;32m      7\u001B[0m     metric_function\u001B[38;5;241m=\u001B[39mmetric_fn,\n\u001B[0;32m      8\u001B[0m     lr_scheduler\u001B[38;5;241m=\u001B[39mlr_scheduler,\n\u001B[0;32m      9\u001B[0m     accelerator\u001B[38;5;241m=\u001B[39maccelerator,\n\u001B[0;32m     10\u001B[0m     epoch_num\u001B[38;5;241m=\u001B[39mEPOCH_NUM,\n\u001B[0;32m     11\u001B[0m     checkpointer\u001B[38;5;241m=\u001B[39mcheckpointer,\n\u001B[0;32m     12\u001B[0m     tb_logger\u001B[38;5;241m=\u001B[39mtensorboard_logger,\n\u001B[0;32m     13\u001B[0m     save_on_val\u001B[38;5;241m=\u001B[39m\u001B[38;5;28;01mTrue\u001B[39;00m,\n\u001B[0;32m     14\u001B[0m )\n",
      "\u001B[1;31mNameError\u001B[0m: name 'model' is not defined"
     ]
    }
   ],
   "execution_count": 45
  },
  {
   "cell_type": "markdown",
   "id": "51fab484-d2b8-40db-a141-4d7c4eaeb8e8",
   "metadata": {},
   "source": [
    "## Загрузим и протестируем обученную модель"
   ]
  },
  {
   "cell_type": "code",
   "id": "c8beaea3-83c6-4f8f-a3f4-392898f18ee4",
   "metadata": {
    "ExecuteTime": {
     "end_time": "2024-04-19T19:00:53.619898Z",
     "start_time": "2024-04-19T19:00:53.410589Z"
    }
   },
   "source": [
    "model = UNet(in_channels=3, out_channels=21)\n",
    "model = load_checkpoint(\n",
    "    model=model, load_path=pjoin(CHECKPOINTS_DIR, \"model_checkpoint_best.pt\")\n",
    ")\n",
    "model = model.to(DEVICE)\n",
    "model.eval()"
   ],
   "outputs": [
    {
     "ename": "FileNotFoundError",
     "evalue": "[Errno 2] No such file or directory: 'checkpoints\\\\model_checkpoint_best.pt'",
     "output_type": "error",
     "traceback": [
      "\u001B[1;31m---------------------------------------------------------------------------\u001B[0m",
      "\u001B[1;31mFileNotFoundError\u001B[0m                         Traceback (most recent call last)",
      "Cell \u001B[1;32mIn[46], line 2\u001B[0m\n\u001B[0;32m      1\u001B[0m model \u001B[38;5;241m=\u001B[39m UNet(in_channels\u001B[38;5;241m=\u001B[39m\u001B[38;5;241m3\u001B[39m, out_channels\u001B[38;5;241m=\u001B[39m\u001B[38;5;241m21\u001B[39m)\n\u001B[1;32m----> 2\u001B[0m model \u001B[38;5;241m=\u001B[39m \u001B[43mload_checkpoint\u001B[49m\u001B[43m(\u001B[49m\n\u001B[0;32m      3\u001B[0m \u001B[43m    \u001B[49m\u001B[43mmodel\u001B[49m\u001B[38;5;241;43m=\u001B[39;49m\u001B[43mmodel\u001B[49m\u001B[43m,\u001B[49m\u001B[43m \u001B[49m\u001B[43mload_path\u001B[49m\u001B[38;5;241;43m=\u001B[39;49m\u001B[43mpjoin\u001B[49m\u001B[43m(\u001B[49m\u001B[43mCHECKPOINTS_DIR\u001B[49m\u001B[43m,\u001B[49m\u001B[43m \u001B[49m\u001B[38;5;124;43m\"\u001B[39;49m\u001B[38;5;124;43mmodel_checkpoint_best.pt\u001B[39;49m\u001B[38;5;124;43m\"\u001B[39;49m\u001B[43m)\u001B[49m\n\u001B[0;32m      4\u001B[0m \u001B[43m)\u001B[49m\n\u001B[0;32m      5\u001B[0m model \u001B[38;5;241m=\u001B[39m model\u001B[38;5;241m.\u001B[39mto(DEVICE)\n\u001B[0;32m      6\u001B[0m model\u001B[38;5;241m.\u001B[39meval()\n",
      "File \u001B[1;32m~\\Documents\\segmentation\\segmentation\\train.py:435\u001B[0m, in \u001B[0;36mload_checkpoint\u001B[1;34m(model, load_path)\u001B[0m\n\u001B[0;32m    434\u001B[0m \u001B[38;5;28;01mdef\u001B[39;00m \u001B[38;5;21mload_checkpoint\u001B[39m(model: nn\u001B[38;5;241m.\u001B[39mModule, load_path: \u001B[38;5;28mstr\u001B[39m) \u001B[38;5;241m-\u001B[39m\u001B[38;5;241m>\u001B[39m nn\u001B[38;5;241m.\u001B[39mModule:\n\u001B[1;32m--> 435\u001B[0m     checkpoint \u001B[38;5;241m=\u001B[39m \u001B[43mtorch\u001B[49m\u001B[38;5;241;43m.\u001B[39;49m\u001B[43mload\u001B[49m\u001B[43m(\u001B[49m\u001B[43mload_path\u001B[49m\u001B[43m,\u001B[49m\u001B[43m \u001B[49m\u001B[43mmap_location\u001B[49m\u001B[38;5;241;43m=\u001B[39;49m\u001B[43mtorch\u001B[49m\u001B[38;5;241;43m.\u001B[39;49m\u001B[43mdevice\u001B[49m\u001B[43m(\u001B[49m\u001B[38;5;124;43m\"\u001B[39;49m\u001B[38;5;124;43mcpu\u001B[39;49m\u001B[38;5;124;43m\"\u001B[39;49m\u001B[43m)\u001B[49m\u001B[43m)\u001B[49m\n\u001B[0;32m    436\u001B[0m     model\u001B[38;5;241m.\u001B[39mload_state_dict(checkpoint[\u001B[38;5;124m\"\u001B[39m\u001B[38;5;124mmodel_state_dict\u001B[39m\u001B[38;5;124m\"\u001B[39m])\n\u001B[0;32m    437\u001B[0m     \u001B[38;5;28;01mreturn\u001B[39;00m model\n",
      "File \u001B[1;32m~\\Documents\\segmentation\\venv\\Lib\\site-packages\\torch\\serialization.py:998\u001B[0m, in \u001B[0;36mload\u001B[1;34m(f, map_location, pickle_module, weights_only, mmap, **pickle_load_args)\u001B[0m\n\u001B[0;32m    995\u001B[0m \u001B[38;5;28;01mif\u001B[39;00m \u001B[38;5;124m'\u001B[39m\u001B[38;5;124mencoding\u001B[39m\u001B[38;5;124m'\u001B[39m \u001B[38;5;129;01mnot\u001B[39;00m \u001B[38;5;129;01min\u001B[39;00m pickle_load_args\u001B[38;5;241m.\u001B[39mkeys():\n\u001B[0;32m    996\u001B[0m     pickle_load_args[\u001B[38;5;124m'\u001B[39m\u001B[38;5;124mencoding\u001B[39m\u001B[38;5;124m'\u001B[39m] \u001B[38;5;241m=\u001B[39m \u001B[38;5;124m'\u001B[39m\u001B[38;5;124mutf-8\u001B[39m\u001B[38;5;124m'\u001B[39m\n\u001B[1;32m--> 998\u001B[0m \u001B[38;5;28;01mwith\u001B[39;00m \u001B[43m_open_file_like\u001B[49m\u001B[43m(\u001B[49m\u001B[43mf\u001B[49m\u001B[43m,\u001B[49m\u001B[43m \u001B[49m\u001B[38;5;124;43m'\u001B[39;49m\u001B[38;5;124;43mrb\u001B[39;49m\u001B[38;5;124;43m'\u001B[39;49m\u001B[43m)\u001B[49m \u001B[38;5;28;01mas\u001B[39;00m opened_file:\n\u001B[0;32m    999\u001B[0m     \u001B[38;5;28;01mif\u001B[39;00m _is_zipfile(opened_file):\n\u001B[0;32m   1000\u001B[0m         \u001B[38;5;66;03m# The zipfile reader is going to advance the current file position.\u001B[39;00m\n\u001B[0;32m   1001\u001B[0m         \u001B[38;5;66;03m# If we want to actually tail call to torch.jit.load, we need to\u001B[39;00m\n\u001B[0;32m   1002\u001B[0m         \u001B[38;5;66;03m# reset back to the original position.\u001B[39;00m\n\u001B[0;32m   1003\u001B[0m         orig_position \u001B[38;5;241m=\u001B[39m opened_file\u001B[38;5;241m.\u001B[39mtell()\n",
      "File \u001B[1;32m~\\Documents\\segmentation\\venv\\Lib\\site-packages\\torch\\serialization.py:445\u001B[0m, in \u001B[0;36m_open_file_like\u001B[1;34m(name_or_buffer, mode)\u001B[0m\n\u001B[0;32m    443\u001B[0m \u001B[38;5;28;01mdef\u001B[39;00m \u001B[38;5;21m_open_file_like\u001B[39m(name_or_buffer, mode):\n\u001B[0;32m    444\u001B[0m     \u001B[38;5;28;01mif\u001B[39;00m _is_path(name_or_buffer):\n\u001B[1;32m--> 445\u001B[0m         \u001B[38;5;28;01mreturn\u001B[39;00m \u001B[43m_open_file\u001B[49m\u001B[43m(\u001B[49m\u001B[43mname_or_buffer\u001B[49m\u001B[43m,\u001B[49m\u001B[43m \u001B[49m\u001B[43mmode\u001B[49m\u001B[43m)\u001B[49m\n\u001B[0;32m    446\u001B[0m     \u001B[38;5;28;01melse\u001B[39;00m:\n\u001B[0;32m    447\u001B[0m         \u001B[38;5;28;01mif\u001B[39;00m \u001B[38;5;124m'\u001B[39m\u001B[38;5;124mw\u001B[39m\u001B[38;5;124m'\u001B[39m \u001B[38;5;129;01min\u001B[39;00m mode:\n",
      "File \u001B[1;32m~\\Documents\\segmentation\\venv\\Lib\\site-packages\\torch\\serialization.py:426\u001B[0m, in \u001B[0;36m_open_file.__init__\u001B[1;34m(self, name, mode)\u001B[0m\n\u001B[0;32m    425\u001B[0m \u001B[38;5;28;01mdef\u001B[39;00m \u001B[38;5;21m__init__\u001B[39m(\u001B[38;5;28mself\u001B[39m, name, mode):\n\u001B[1;32m--> 426\u001B[0m     \u001B[38;5;28msuper\u001B[39m()\u001B[38;5;241m.\u001B[39m\u001B[38;5;21m__init__\u001B[39m(\u001B[38;5;28;43mopen\u001B[39;49m\u001B[43m(\u001B[49m\u001B[43mname\u001B[49m\u001B[43m,\u001B[49m\u001B[43m \u001B[49m\u001B[43mmode\u001B[49m\u001B[43m)\u001B[49m)\n",
      "\u001B[1;31mFileNotFoundError\u001B[0m: [Errno 2] No such file or directory: 'checkpoints\\\\model_checkpoint_best.pt'"
     ]
    }
   ],
   "execution_count": 46
  },
  {
   "cell_type": "code",
   "id": "a64c5c6b-7631-4816-93cb-8156f055810c",
   "metadata": {},
   "source": [
    "sample_idx = 0\n",
    "image, target = train_dataset[sample_idx]\n",
    "target = torch.argmax(target, axis=0)\n",
    "preds = torch.argmax(\n",
    "    F.softmax(model(image.unsqueeze(0).to(DEVICE)), dim=1).squeeze(0), axis=0\n",
    ")\n",
    "\n",
    "fig, ax = plt.subplots(1, 3, figsize=(9, 18))\n",
    "ax[0].imshow(image.numpy().transpose(1, 2, 0).astype(np.uint8))\n",
    "ax[1].imshow(target.numpy())\n",
    "ax[2].imshow(preds.cpu().numpy());"
   ],
   "outputs": [],
   "execution_count": null
  },
  {
   "cell_type": "code",
   "id": "890f047a-20ad-4b06-a409-d8f7da5a2e8d",
   "metadata": {},
   "source": [],
   "outputs": [],
   "execution_count": null
  }
 ],
 "metadata": {
  "kernelspec": {
   "display_name": "Python 3 (ipykernel)",
   "language": "python",
   "name": "python3"
  },
  "language_info": {
   "codemirror_mode": {
    "name": "ipython",
    "version": 3
   },
   "file_extension": ".py",
   "mimetype": "text/x-python",
   "name": "python",
   "nbconvert_exporter": "python",
   "pygments_lexer": "ipython3",
   "version": "3.11.5"
  }
 },
 "nbformat": 4,
 "nbformat_minor": 5
}
