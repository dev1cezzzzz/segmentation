{
 "cells": [
  {
   "cell_type": "markdown",
   "id": "cffdd5d6-3712-45d2-b5c0-cbb48b5f377d",
   "metadata": {},
   "source": [
    "# Обучение моделей в Pytorch"
   ]
  },
  {
   "cell_type": "code",
   "id": "2fc18f6a-31c9-4ff1-b7a7-02a7a13f85cd",
   "metadata": {
    "ExecuteTime": {
     "end_time": "2024-05-11T08:55:37.787432Z",
     "start_time": "2024-05-11T08:55:37.782957Z"
    }
   },
   "source": [
    "import os\n",
    "import random\n",
    "from os.path import join as pjoin\n",
    "from shutil import rmtree\n",
    "\n",
    "import albumentations\n",
    "import numpy as np\n",
    "import torch\n",
    "from accelerate import Accelerator\n",
    "from albumentations.pytorch.transforms import ToTensorV2\n",
    "from dataset import CustomDataset\n",
    "from matplotlib import pyplot as plt\n",
    "from PIL import Image\n",
    "from torch import nn\n",
    "from torch.nn import functional as F\n",
    "from torch.utils.data import DataLoader\n",
    "from torch.utils.tensorboard import SummaryWriter\n",
    "from torchvision import datasets\n",
    "from train import (\n",
    "    CheckpointSaver,\n",
    "    IoUMetric,\n",
    "    MulticlassCrossEntropyLoss,\n",
    "    MulticlassDiceLoss,\n",
    "    load_checkpoint,\n",
    "    train,\n",
    ")\n",
    "from unet import UNet, count_model_params"
   ],
   "outputs": [],
   "execution_count": 12
  },
  {
   "cell_type": "code",
   "id": "12069a41-bbcb-4292-931b-27c367515ef8",
   "metadata": {
    "ExecuteTime": {
     "end_time": "2024-05-11T08:55:37.834630Z",
     "start_time": "2024-05-11T08:55:37.829435Z"
    }
   },
   "source": [
    "def seed_everything(seed: int = 314159, torch_deterministic: bool = False) -> None:\n",
    "    os.environ[\"PYTHONHASHSEED\"] = str(seed)\n",
    "    random.seed(seed)\n",
    "    np.random.seed(seed)\n",
    "    torch.manual_seed(seed)\n",
    "    torch.cuda.manual_seed(seed)\n",
    "    torch.use_deterministic_algorithms(torch_deterministic)\n",
    "\n",
    "\n",
    "seed_everything(42, torch_deterministic=False)"
   ],
   "outputs": [],
   "execution_count": 13
  },
  {
   "cell_type": "markdown",
   "id": "40d17238-f92d-4347-a84e-91b2f37598bc",
   "metadata": {},
   "source": "## Аугментации"
  },
  {
   "cell_type": "code",
   "id": "662c1e5a-ca36-4b9f-802a-da8e3786c5b3",
   "metadata": {
    "ExecuteTime": {
     "end_time": "2024-05-11T08:55:37.856174Z",
     "start_time": "2024-05-11T08:55:37.850630Z"
    }
   },
   "source": [
    "IMAGE_SIZE = 256\n",
    "transforms = albumentations.Compose(\n",
    "    [\n",
    "        albumentations.Resize(height=IMAGE_SIZE, width=IMAGE_SIZE),\n",
    "        ToTensorV2(),\n",
    "    ]\n",
    ")"
   ],
   "outputs": [],
   "execution_count": 14
  },
  {
   "cell_type": "markdown",
   "id": "a88cc6ba-7bbf-403f-acca-b6b1e6978d45",
   "metadata": {},
   "source": "## Dataset"
  },
  {
   "metadata": {
    "ExecuteTime": {
     "end_time": "2024-05-11T08:55:37.865195Z",
     "start_time": "2024-05-11T08:55:37.857169Z"
    }
   },
   "cell_type": "code",
   "source": [
    "train_dataset = CustomDataset(root_dir=\"C:/Segmentation\",transforms = transforms)\n",
    "val_dataset = CustomDataset(root_dir=\"C:/Segmentation\",transforms = transforms)\n",
    "len(train_dataset)\n"
   ],
   "id": "d5f057bd-99cc-4053-86a5-af4feaa556be",
   "outputs": [
    {
     "data": {
      "text/plain": [
       "52"
      ]
     },
     "execution_count": 15,
     "metadata": {},
     "output_type": "execute_result"
    }
   ],
   "execution_count": 15
  },
  {
   "cell_type": "code",
   "id": "87df0ac5-850f-4372-8d2a-31c8f6988e7e",
   "metadata": {
    "ExecuteTime": {
     "end_time": "2024-05-11T08:55:37.885585Z",
     "start_time": "2024-05-11T08:55:37.874192Z"
    }
   },
   "source": [
    "image, target = train_dataset[5]\n",
    "image\n"
   ],
   "outputs": [
    {
     "data": {
      "text/plain": [
       "tensor([[[0., 0., 0.,  ..., 0., 0., 0.],\n",
       "         [0., 0., 0.,  ..., 0., 0., 0.],\n",
       "         [0., 0., 0.,  ..., 0., 0., 0.],\n",
       "         ...,\n",
       "         [0., 0., 0.,  ..., 0., 0., 0.],\n",
       "         [0., 0., 0.,  ..., 0., 0., 0.],\n",
       "         [0., 0., 0.,  ..., 0., 0., 0.]],\n",
       "\n",
       "        [[0., 0., 0.,  ..., 0., 0., 0.],\n",
       "         [0., 0., 0.,  ..., 0., 0., 0.],\n",
       "         [0., 0., 0.,  ..., 0., 0., 0.],\n",
       "         ...,\n",
       "         [0., 0., 0.,  ..., 0., 0., 0.],\n",
       "         [0., 0., 0.,  ..., 0., 0., 0.],\n",
       "         [0., 0., 0.,  ..., 0., 0., 0.]],\n",
       "\n",
       "        [[0., 0., 0.,  ..., 0., 0., 0.],\n",
       "         [0., 0., 0.,  ..., 0., 0., 0.],\n",
       "         [0., 0., 0.,  ..., 0., 0., 0.],\n",
       "         ...,\n",
       "         [0., 0., 0.,  ..., 0., 0., 0.],\n",
       "         [0., 0., 0.,  ..., 0., 0., 0.],\n",
       "         [0., 0., 0.,  ..., 0., 0., 0.]]])"
      ]
     },
     "execution_count": 16,
     "metadata": {},
     "output_type": "execute_result"
    }
   ],
   "execution_count": 16
  },
  {
   "metadata": {
    "ExecuteTime": {
     "end_time": "2024-05-11T08:55:37.917037Z",
     "start_time": "2024-05-11T08:55:37.912588Z"
    }
   },
   "cell_type": "code",
   "source": "target\n",
   "id": "a88e21f6-543f-47a2-97ef-781a0a997449",
   "outputs": [
    {
     "data": {
      "text/plain": [
       "tensor([[[0., 0., 0.,  ..., 0., 0., 0.],\n",
       "         [0., 0., 0.,  ..., 0., 0., 0.],\n",
       "         [0., 0., 0.,  ..., 0., 0., 0.],\n",
       "         ...,\n",
       "         [0., 0., 0.,  ..., 0., 0., 0.],\n",
       "         [0., 0., 0.,  ..., 0., 0., 0.],\n",
       "         [0., 0., 0.,  ..., 0., 0., 0.]]])"
      ]
     },
     "execution_count": 17,
     "metadata": {},
     "output_type": "execute_result"
    }
   ],
   "execution_count": 17
  },
  {
   "metadata": {
    "ExecuteTime": {
     "end_time": "2024-05-11T08:55:37.930738Z",
     "start_time": "2024-05-11T08:55:37.927030Z"
    }
   },
   "cell_type": "code",
   "source": "image.shape",
   "id": "20f09949-7e66-43d9-824b-0595a09f3a02",
   "outputs": [
    {
     "data": {
      "text/plain": [
       "torch.Size([3, 256, 256])"
      ]
     },
     "execution_count": 18,
     "metadata": {},
     "output_type": "execute_result"
    }
   ],
   "execution_count": 18
  },
  {
   "metadata": {
    "ExecuteTime": {
     "end_time": "2024-05-11T08:55:37.940679Z",
     "start_time": "2024-05-11T08:55:37.936736Z"
    }
   },
   "cell_type": "code",
   "source": "target.shape",
   "id": "35db8825-5df7-4383-b1e2-5668b1dcd685",
   "outputs": [
    {
     "data": {
      "text/plain": [
       "torch.Size([1, 256, 256])"
      ]
     },
     "execution_count": 19,
     "metadata": {},
     "output_type": "execute_result"
    }
   ],
   "execution_count": 19
  },
  {
   "cell_type": "markdown",
   "id": "b2b22de3-372a-48d9-ac36-95ac41dbee39",
   "metadata": {},
   "source": "## Accelerator"
  },
  {
   "cell_type": "code",
   "id": "67ca43ec-8ee3-4f92-9537-dba305bd18f8",
   "metadata": {
    "ExecuteTime": {
     "end_time": "2024-05-11T08:55:37.975371Z",
     "start_time": "2024-05-11T08:55:37.970682Z"
    }
   },
   "source": [
    "accelerator = Accelerator(cpu=False, mixed_precision=\"fp16\")"
   ],
   "outputs": [],
   "execution_count": 20
  },
  {
   "cell_type": "markdown",
   "id": "658bce9e-3f9d-46ed-9950-1d0a66e5376f",
   "metadata": {},
   "source": [
    "## Обучаем модель"
   ]
  },
  {
   "cell_type": "code",
   "id": "7b04b29f-46ff-45aa-9cba-5a6f03c72470",
   "metadata": {
    "ExecuteTime": {
     "end_time": "2024-05-11T08:55:38.001600Z",
     "start_time": "2024-05-11T08:55:37.998373Z"
    }
   },
   "source": [
    "LEARNING_RATE = 1e-4\n",
    "BATCH_SIZE = 4\n",
    "NUM_WORKERS = 2\n",
    "EPOCH_NUM = 20\n",
    "CHECKPOINTS_DIR = \"checkpoints\"\n",
    "TENSORBOARD_DIR = \"tensorboard\"\n",
    "RM_CHECKPOINTS_DIR = False\n",
    "\n",
    "DEVICE = \"cuda\" if torch.cuda.is_available() else \"cpu\""
   ],
   "outputs": [],
   "execution_count": 21
  },
  {
   "cell_type": "code",
   "id": "f24b17ad-99e7-4346-a5a4-38303c48221d",
   "metadata": {
    "ExecuteTime": {
     "end_time": "2024-05-11T08:55:38.135540Z",
     "start_time": "2024-05-11T08:55:38.039139Z"
    }
   },
   "source": [
    "train_dataloader = DataLoader(\n",
    "    train_dataset, batch_size=BATCH_SIZE, num_workers=NUM_WORKERS, shuffle=True\n",
    ")\n",
    "val_dataloader = DataLoader(\n",
    "    val_dataset, batch_size=BATCH_SIZE, num_workers=NUM_WORKERS, shuffle=True\n",
    ")\n",
    "\n",
    "model = UNet(in_channels=3, out_channels=1)\n",
    "\n",
    "loss_fn = MulticlassDiceLoss()\n",
    "optimizer = torch.optim.AdamW(model.parameters(), lr=LEARNING_RATE)\n",
    "lr_scheduler = torch.optim.lr_scheduler.StepLR(\n",
    "    optimizer=optimizer, step_size=5, gamma=0.8\n",
    ")\n",
    "metric_fn = loss_fn\n",
    "\n",
    "os.makedirs(CHECKPOINTS_DIR, exist_ok=True)\n",
    "checkpointer = CheckpointSaver(\n",
    "    accelerator=accelerator,\n",
    "    model=model,\n",
    "    metric_name=\"DICE\",\n",
    "    save_dir=CHECKPOINTS_DIR,\n",
    "    rm_save_dir=RM_CHECKPOINTS_DIR,\n",
    "    max_history=5,\n",
    "    should_minimize=True,\n",
    ")"
   ],
   "outputs": [],
   "execution_count": 22
  },
  {
   "cell_type": "code",
   "id": "83c16bbd-6ca0-4663-ab75-ea46492447b9",
   "metadata": {
    "ExecuteTime": {
     "end_time": "2024-05-11T08:55:38.141117Z",
     "start_time": "2024-05-11T08:55:38.136533Z"
    }
   },
   "source": [
    "# !pip install tensorboard\n",
    "# tensorboard_logger = None\n",
    "\n",
    "os.makedirs(TENSORBOARD_DIR, exist_ok=True)\n",
    "tensorboard_logger = torch.utils.tensorboard.SummaryWriter(log_dir=TENSORBOARD_DIR)"
   ],
   "outputs": [],
   "execution_count": 23
  },
  {
   "cell_type": "code",
   "id": "1d830ff9-3e9e-4f0b-995c-128060eee0e9",
   "metadata": {
    "ExecuteTime": {
     "end_time": "2024-05-11T08:55:38.148991Z",
     "start_time": "2024-05-11T08:55:38.142113Z"
    }
   },
   "source": [
    "# акселерируем\n",
    "model, optimizer, train_dataloader, val_dataloader, lr_scheduler = accelerator.prepare(\n",
    "    model, optimizer, train_dataloader, val_dataloader, lr_scheduler\n",
    ")"
   ],
   "outputs": [],
   "execution_count": 24
  },
  {
   "cell_type": "code",
   "id": "2f1cea82-a47b-4b74-a0e5-22de5bd3c9f4",
   "metadata": {
    "ExecuteTime": {
     "end_time": "2024-05-11T09:21:14.253811Z",
     "start_time": "2024-05-11T08:55:38.149988Z"
    }
   },
   "source": [
    "train(\n",
    "    model=model,\n",
    "    optimizer=optimizer,\n",
    "    train_dataloader=train_dataloader,\n",
    "    val_dataloader=val_dataloader,\n",
    "    loss_function=loss_fn,\n",
    "    metric_function=metric_fn,\n",
    "    lr_scheduler=lr_scheduler,\n",
    "    accelerator=accelerator,\n",
    "    epoch_num=EPOCH_NUM,\n",
    "    checkpointer=checkpointer,\n",
    "    tb_logger=tensorboard_logger,\n",
    "    save_on_val=True,\n",
    ")"
   ],
   "outputs": [
    {
     "data": {
      "text/plain": [
       "  0%|          | 0/20 [00:00<?, ?it/s]"
      ],
      "application/vnd.jupyter.widget-view+json": {
       "version_major": 2,
       "version_minor": 0,
       "model_id": "3adbcd80cef24d6d94ab42064aea14c0"
      }
     },
     "metadata": {},
     "output_type": "display_data"
    },
    {
     "name": "stdout",
     "output_type": "stream",
     "text": [
      "------------------------------\n",
      "Epoch 0/20\n"
     ]
    },
    {
     "data": {
      "text/plain": [
       "Training:   0%|          | 0/13 [00:00<?, ?it/s]"
      ],
      "application/vnd.jupyter.widget-view+json": {
       "version_major": 2,
       "version_minor": 0,
       "model_id": "b54ee1cce82a4df0ac2e797b23fb729f"
      }
     },
     "metadata": {},
     "output_type": "display_data"
    },
    {
     "name": "stdout",
     "output_type": "stream",
     "text": [
      "Epoch train loss: 0.03384\n",
      "Epoch train metric: 0.03384\n"
     ]
    },
    {
     "data": {
      "text/plain": [
       "Validation:   0%|          | 0/13 [00:00<?, ?it/s]"
      ],
      "application/vnd.jupyter.widget-view+json": {
       "version_major": 2,
       "version_minor": 0,
       "model_id": "655fee3c8ee14e339c00cd259eb2364d"
      }
     },
     "metadata": {},
     "output_type": "display_data"
    },
    {
     "name": "stdout",
     "output_type": "stream",
     "text": [
      "Epoch validation loss: 0.03982\n",
      "Epoch validation metric: 0.03982\n",
      "Best epoch DICE value is 0.0398 on 0 epoch\n",
      "------------------------------\n",
      "Epoch 1/20\n"
     ]
    },
    {
     "data": {
      "text/plain": [
       "Training:   0%|          | 0/13 [00:00<?, ?it/s]"
      ],
      "application/vnd.jupyter.widget-view+json": {
       "version_major": 2,
       "version_minor": 0,
       "model_id": "03b2da2c1ab849988425e5aa2e460357"
      }
     },
     "metadata": {},
     "output_type": "display_data"
    },
    {
     "name": "stdout",
     "output_type": "stream",
     "text": [
      "Epoch train loss: 0.02525\n",
      "Epoch train metric: 0.02525\n"
     ]
    },
    {
     "data": {
      "text/plain": [
       "Validation:   0%|          | 0/13 [00:00<?, ?it/s]"
      ],
      "application/vnd.jupyter.widget-view+json": {
       "version_major": 2,
       "version_minor": 0,
       "model_id": "6d0060e58a224865b7e6f331dad93ac7"
      }
     },
     "metadata": {},
     "output_type": "display_data"
    },
    {
     "name": "stdout",
     "output_type": "stream",
     "text": [
      "Epoch validation loss: 0.03226\n",
      "Epoch validation metric: 0.03226\n",
      "Best epoch DICE value is 0.0323 on 1 epoch\n",
      "------------------------------\n",
      "Epoch 2/20\n"
     ]
    },
    {
     "data": {
      "text/plain": [
       "Training:   0%|          | 0/13 [00:00<?, ?it/s]"
      ],
      "application/vnd.jupyter.widget-view+json": {
       "version_major": 2,
       "version_minor": 0,
       "model_id": "8cdb51e4e020407ab032e907d2037fb0"
      }
     },
     "metadata": {},
     "output_type": "display_data"
    },
    {
     "name": "stdout",
     "output_type": "stream",
     "text": [
      "Epoch train loss: 0.02314\n",
      "Epoch train metric: 0.02314\n"
     ]
    },
    {
     "data": {
      "text/plain": [
       "Validation:   0%|          | 0/13 [00:00<?, ?it/s]"
      ],
      "application/vnd.jupyter.widget-view+json": {
       "version_major": 2,
       "version_minor": 0,
       "model_id": "ffd8225511fc45699295389d62f03ddf"
      }
     },
     "metadata": {},
     "output_type": "display_data"
    },
    {
     "name": "stdout",
     "output_type": "stream",
     "text": [
      "Epoch validation loss: 0.02693\n",
      "Epoch validation metric: 0.02693\n",
      "Best epoch DICE value is 0.0269 on 2 epoch\n",
      "------------------------------\n",
      "Epoch 3/20\n"
     ]
    },
    {
     "data": {
      "text/plain": [
       "Training:   0%|          | 0/13 [00:00<?, ?it/s]"
      ],
      "application/vnd.jupyter.widget-view+json": {
       "version_major": 2,
       "version_minor": 0,
       "model_id": "4d15813ec3564a1fb4fd0d3aefc39be7"
      }
     },
     "metadata": {},
     "output_type": "display_data"
    },
    {
     "name": "stdout",
     "output_type": "stream",
     "text": [
      "Epoch train loss: 0.02170\n",
      "Epoch train metric: 0.02170\n"
     ]
    },
    {
     "data": {
      "text/plain": [
       "Validation:   0%|          | 0/13 [00:00<?, ?it/s]"
      ],
      "application/vnd.jupyter.widget-view+json": {
       "version_major": 2,
       "version_minor": 0,
       "model_id": "e3480fcbb4ad47a6a1511a6dac0cff3d"
      }
     },
     "metadata": {},
     "output_type": "display_data"
    },
    {
     "name": "stdout",
     "output_type": "stream",
     "text": [
      "Epoch validation loss: 0.02247\n",
      "Epoch validation metric: 0.02247\n",
      "Best epoch DICE value is 0.0225 on 3 epoch\n",
      "------------------------------\n",
      "Epoch 4/20\n"
     ]
    },
    {
     "data": {
      "text/plain": [
       "Training:   0%|          | 0/13 [00:00<?, ?it/s]"
      ],
      "application/vnd.jupyter.widget-view+json": {
       "version_major": 2,
       "version_minor": 0,
       "model_id": "26f70b5dd4834fe8b9314ef14ca6c243"
      }
     },
     "metadata": {},
     "output_type": "display_data"
    },
    {
     "name": "stdout",
     "output_type": "stream",
     "text": [
      "Epoch train loss: 0.02054\n",
      "Epoch train metric: 0.02054\n"
     ]
    },
    {
     "data": {
      "text/plain": [
       "Validation:   0%|          | 0/13 [00:00<?, ?it/s]"
      ],
      "application/vnd.jupyter.widget-view+json": {
       "version_major": 2,
       "version_minor": 0,
       "model_id": "dadf2e83c4b2412c9ce4b1ad85fa262a"
      }
     },
     "metadata": {},
     "output_type": "display_data"
    },
    {
     "name": "stdout",
     "output_type": "stream",
     "text": [
      "Epoch validation loss: 0.02504\n",
      "Epoch validation metric: 0.02504\n",
      "Best epoch DICE value is 0.0225 on 3 epoch\n",
      "------------------------------\n",
      "Epoch 5/20\n"
     ]
    },
    {
     "data": {
      "text/plain": [
       "Training:   0%|          | 0/13 [00:00<?, ?it/s]"
      ],
      "application/vnd.jupyter.widget-view+json": {
       "version_major": 2,
       "version_minor": 0,
       "model_id": "728ab7becae94f65a702f43ffd9aa3ea"
      }
     },
     "metadata": {},
     "output_type": "display_data"
    },
    {
     "name": "stdout",
     "output_type": "stream",
     "text": [
      "Epoch train loss: 0.02047\n",
      "Epoch train metric: 0.02047\n"
     ]
    },
    {
     "data": {
      "text/plain": [
       "Validation:   0%|          | 0/13 [00:00<?, ?it/s]"
      ],
      "application/vnd.jupyter.widget-view+json": {
       "version_major": 2,
       "version_minor": 0,
       "model_id": "1c2cef2de317451ebaefe59788e005c6"
      }
     },
     "metadata": {},
     "output_type": "display_data"
    },
    {
     "name": "stdout",
     "output_type": "stream",
     "text": [
      "Epoch validation loss: 0.01828\n",
      "Epoch validation metric: 0.01828\n",
      "Best epoch DICE value is 0.0183 on 5 epoch\n",
      "------------------------------\n",
      "Epoch 6/20\n"
     ]
    },
    {
     "data": {
      "text/plain": [
       "Training:   0%|          | 0/13 [00:00<?, ?it/s]"
      ],
      "application/vnd.jupyter.widget-view+json": {
       "version_major": 2,
       "version_minor": 0,
       "model_id": "b52864b301be4c38b2d320fa4212162a"
      }
     },
     "metadata": {},
     "output_type": "display_data"
    },
    {
     "name": "stdout",
     "output_type": "stream",
     "text": [
      "Epoch train loss: 0.02001\n",
      "Epoch train metric: 0.02001\n"
     ]
    },
    {
     "data": {
      "text/plain": [
       "Validation:   0%|          | 0/13 [00:00<?, ?it/s]"
      ],
      "application/vnd.jupyter.widget-view+json": {
       "version_major": 2,
       "version_minor": 0,
       "model_id": "5cfc68f8a8eb4861a2c5555c2ef57457"
      }
     },
     "metadata": {},
     "output_type": "display_data"
    },
    {
     "name": "stdout",
     "output_type": "stream",
     "text": [
      "Epoch validation loss: 0.02030\n",
      "Epoch validation metric: 0.02030\n",
      "Best epoch DICE value is 0.0183 on 5 epoch\n",
      "------------------------------\n",
      "Epoch 7/20\n"
     ]
    },
    {
     "data": {
      "text/plain": [
       "Training:   0%|          | 0/13 [00:00<?, ?it/s]"
      ],
      "application/vnd.jupyter.widget-view+json": {
       "version_major": 2,
       "version_minor": 0,
       "model_id": "598f353ce64248f4bef6a1e5c8b34405"
      }
     },
     "metadata": {},
     "output_type": "display_data"
    },
    {
     "name": "stdout",
     "output_type": "stream",
     "text": [
      "Epoch train loss: 0.01900\n",
      "Epoch train metric: 0.01900\n"
     ]
    },
    {
     "data": {
      "text/plain": [
       "Validation:   0%|          | 0/13 [00:00<?, ?it/s]"
      ],
      "application/vnd.jupyter.widget-view+json": {
       "version_major": 2,
       "version_minor": 0,
       "model_id": "48500537f9db4aa0a02c9cd92a360b61"
      }
     },
     "metadata": {},
     "output_type": "display_data"
    },
    {
     "name": "stdout",
     "output_type": "stream",
     "text": [
      "Epoch validation loss: 0.01984\n",
      "Epoch validation metric: 0.01984\n",
      "Best epoch DICE value is 0.0183 on 5 epoch\n",
      "------------------------------\n",
      "Epoch 8/20\n"
     ]
    },
    {
     "data": {
      "text/plain": [
       "Training:   0%|          | 0/13 [00:00<?, ?it/s]"
      ],
      "application/vnd.jupyter.widget-view+json": {
       "version_major": 2,
       "version_minor": 0,
       "model_id": "ccc3cb307e274c1fa1253cb947526e09"
      }
     },
     "metadata": {},
     "output_type": "display_data"
    },
    {
     "name": "stdout",
     "output_type": "stream",
     "text": [
      "Epoch train loss: 0.01828\n",
      "Epoch train metric: 0.01828\n"
     ]
    },
    {
     "data": {
      "text/plain": [
       "Validation:   0%|          | 0/13 [00:00<?, ?it/s]"
      ],
      "application/vnd.jupyter.widget-view+json": {
       "version_major": 2,
       "version_minor": 0,
       "model_id": "3340c6d4bc1642bca835794cda192f63"
      }
     },
     "metadata": {},
     "output_type": "display_data"
    },
    {
     "name": "stdout",
     "output_type": "stream",
     "text": [
      "Epoch validation loss: 0.01947\n",
      "Epoch validation metric: 0.01947\n",
      "Best epoch DICE value is 0.0183 on 5 epoch\n",
      "------------------------------\n",
      "Epoch 9/20\n"
     ]
    },
    {
     "data": {
      "text/plain": [
       "Training:   0%|          | 0/13 [00:00<?, ?it/s]"
      ],
      "application/vnd.jupyter.widget-view+json": {
       "version_major": 2,
       "version_minor": 0,
       "model_id": "44b35b8962764db3827a7356af854af8"
      }
     },
     "metadata": {},
     "output_type": "display_data"
    },
    {
     "name": "stdout",
     "output_type": "stream",
     "text": [
      "Epoch train loss: 0.01792\n",
      "Epoch train metric: 0.01792\n"
     ]
    },
    {
     "data": {
      "text/plain": [
       "Validation:   0%|          | 0/13 [00:00<?, ?it/s]"
      ],
      "application/vnd.jupyter.widget-view+json": {
       "version_major": 2,
       "version_minor": 0,
       "model_id": "2a9be0f53c964b48bc9780cf0b660e48"
      }
     },
     "metadata": {},
     "output_type": "display_data"
    },
    {
     "name": "stdout",
     "output_type": "stream",
     "text": [
      "Epoch validation loss: 0.01830\n",
      "Epoch validation metric: 0.01830\n",
      "Best epoch DICE value is 0.0183 on 5 epoch\n",
      "------------------------------\n",
      "Epoch 10/20\n"
     ]
    },
    {
     "data": {
      "text/plain": [
       "Training:   0%|          | 0/13 [00:00<?, ?it/s]"
      ],
      "application/vnd.jupyter.widget-view+json": {
       "version_major": 2,
       "version_minor": 0,
       "model_id": "0bef6a9d3c25450ea80447256830d2f0"
      }
     },
     "metadata": {},
     "output_type": "display_data"
    },
    {
     "name": "stdout",
     "output_type": "stream",
     "text": [
      "Epoch train loss: 0.01723\n",
      "Epoch train metric: 0.01723\n"
     ]
    },
    {
     "data": {
      "text/plain": [
       "Validation:   0%|          | 0/13 [00:00<?, ?it/s]"
      ],
      "application/vnd.jupyter.widget-view+json": {
       "version_major": 2,
       "version_minor": 0,
       "model_id": "f745519a5fab443096531d4fa44027c9"
      }
     },
     "metadata": {},
     "output_type": "display_data"
    },
    {
     "name": "stdout",
     "output_type": "stream",
     "text": [
      "Epoch validation loss: 0.01931\n",
      "Epoch validation metric: 0.01931\n",
      "Best epoch DICE value is 0.0183 on 5 epoch\n",
      "------------------------------\n",
      "Epoch 11/20\n"
     ]
    },
    {
     "data": {
      "text/plain": [
       "Training:   0%|          | 0/13 [00:00<?, ?it/s]"
      ],
      "application/vnd.jupyter.widget-view+json": {
       "version_major": 2,
       "version_minor": 0,
       "model_id": "53a9e4a1df5a4018b0d9d9271626bdaf"
      }
     },
     "metadata": {},
     "output_type": "display_data"
    },
    {
     "name": "stdout",
     "output_type": "stream",
     "text": [
      "Epoch train loss: 0.01694\n",
      "Epoch train metric: 0.01694\n"
     ]
    },
    {
     "data": {
      "text/plain": [
       "Validation:   0%|          | 0/13 [00:00<?, ?it/s]"
      ],
      "application/vnd.jupyter.widget-view+json": {
       "version_major": 2,
       "version_minor": 0,
       "model_id": "4b78017913f245d883ca72eea4427a8a"
      }
     },
     "metadata": {},
     "output_type": "display_data"
    },
    {
     "name": "stdout",
     "output_type": "stream",
     "text": [
      "Epoch validation loss: 0.02187\n",
      "Epoch validation metric: 0.02187\n",
      "Best epoch DICE value is 0.0183 on 5 epoch\n",
      "------------------------------\n",
      "Epoch 12/20\n"
     ]
    },
    {
     "data": {
      "text/plain": [
       "Training:   0%|          | 0/13 [00:00<?, ?it/s]"
      ],
      "application/vnd.jupyter.widget-view+json": {
       "version_major": 2,
       "version_minor": 0,
       "model_id": "2ca321fb29af4361b76dfecb4dfbbef8"
      }
     },
     "metadata": {},
     "output_type": "display_data"
    },
    {
     "name": "stdout",
     "output_type": "stream",
     "text": [
      "Epoch train loss: 0.01719\n",
      "Epoch train metric: 0.01719\n"
     ]
    },
    {
     "data": {
      "text/plain": [
       "Validation:   0%|          | 0/13 [00:00<?, ?it/s]"
      ],
      "application/vnd.jupyter.widget-view+json": {
       "version_major": 2,
       "version_minor": 0,
       "model_id": "fad8c6eeddb440d9b08e1191a14c82fc"
      }
     },
     "metadata": {},
     "output_type": "display_data"
    },
    {
     "name": "stdout",
     "output_type": "stream",
     "text": [
      "Epoch validation loss: 0.01910\n",
      "Epoch validation metric: 0.01910\n",
      "Best epoch DICE value is 0.0183 on 5 epoch\n",
      "------------------------------\n",
      "Epoch 13/20\n"
     ]
    },
    {
     "data": {
      "text/plain": [
       "Training:   0%|          | 0/13 [00:00<?, ?it/s]"
      ],
      "application/vnd.jupyter.widget-view+json": {
       "version_major": 2,
       "version_minor": 0,
       "model_id": "617d0248fb6f48c890e51b09b202e8ef"
      }
     },
     "metadata": {},
     "output_type": "display_data"
    },
    {
     "name": "stdout",
     "output_type": "stream",
     "text": [
      "Epoch train loss: 0.01639\n",
      "Epoch train metric: 0.01639\n"
     ]
    },
    {
     "data": {
      "text/plain": [
       "Validation:   0%|          | 0/13 [00:00<?, ?it/s]"
      ],
      "application/vnd.jupyter.widget-view+json": {
       "version_major": 2,
       "version_minor": 0,
       "model_id": "b4e017c814754fefbd50fa9115bdd196"
      }
     },
     "metadata": {},
     "output_type": "display_data"
    },
    {
     "name": "stdout",
     "output_type": "stream",
     "text": [
      "Epoch validation loss: 0.01738\n",
      "Epoch validation metric: 0.01738\n",
      "Best epoch DICE value is 0.0174 on 13 epoch\n",
      "------------------------------\n",
      "Epoch 14/20\n"
     ]
    },
    {
     "data": {
      "text/plain": [
       "Training:   0%|          | 0/13 [00:00<?, ?it/s]"
      ],
      "application/vnd.jupyter.widget-view+json": {
       "version_major": 2,
       "version_minor": 0,
       "model_id": "e4ff1bf9e17b4d14905b8a007b9fa38a"
      }
     },
     "metadata": {},
     "output_type": "display_data"
    },
    {
     "name": "stdout",
     "output_type": "stream",
     "text": [
      "Epoch train loss: 0.01672\n",
      "Epoch train metric: 0.01672\n"
     ]
    },
    {
     "data": {
      "text/plain": [
       "Validation:   0%|          | 0/13 [00:00<?, ?it/s]"
      ],
      "application/vnd.jupyter.widget-view+json": {
       "version_major": 2,
       "version_minor": 0,
       "model_id": "64436b363225456186dd880d313a1e55"
      }
     },
     "metadata": {},
     "output_type": "display_data"
    },
    {
     "name": "stdout",
     "output_type": "stream",
     "text": [
      "Epoch validation loss: 0.02288\n",
      "Epoch validation metric: 0.02288\n",
      "Best epoch DICE value is 0.0174 on 13 epoch\n",
      "------------------------------\n",
      "Epoch 15/20\n"
     ]
    },
    {
     "data": {
      "text/plain": [
       "Training:   0%|          | 0/13 [00:00<?, ?it/s]"
      ],
      "application/vnd.jupyter.widget-view+json": {
       "version_major": 2,
       "version_minor": 0,
       "model_id": "f225fd35f04b498a89afc4ce309c86df"
      }
     },
     "metadata": {},
     "output_type": "display_data"
    },
    {
     "name": "stdout",
     "output_type": "stream",
     "text": [
      "Epoch train loss: 0.01677\n",
      "Epoch train metric: 0.01677\n"
     ]
    },
    {
     "data": {
      "text/plain": [
       "Validation:   0%|          | 0/13 [00:00<?, ?it/s]"
      ],
      "application/vnd.jupyter.widget-view+json": {
       "version_major": 2,
       "version_minor": 0,
       "model_id": "b22791f783274d778095d32ff89e5e5b"
      }
     },
     "metadata": {},
     "output_type": "display_data"
    },
    {
     "name": "stdout",
     "output_type": "stream",
     "text": [
      "Epoch validation loss: 0.01781\n",
      "Epoch validation metric: 0.01781\n",
      "Best epoch DICE value is 0.0174 on 13 epoch\n",
      "------------------------------\n",
      "Epoch 16/20\n"
     ]
    },
    {
     "data": {
      "text/plain": [
       "Training:   0%|          | 0/13 [00:00<?, ?it/s]"
      ],
      "application/vnd.jupyter.widget-view+json": {
       "version_major": 2,
       "version_minor": 0,
       "model_id": "4312d175f98f4a2dbab748f256e31c4f"
      }
     },
     "metadata": {},
     "output_type": "display_data"
    },
    {
     "name": "stdout",
     "output_type": "stream",
     "text": [
      "Epoch train loss: 0.01635\n",
      "Epoch train metric: 0.01635\n"
     ]
    },
    {
     "data": {
      "text/plain": [
       "Validation:   0%|          | 0/13 [00:00<?, ?it/s]"
      ],
      "application/vnd.jupyter.widget-view+json": {
       "version_major": 2,
       "version_minor": 0,
       "model_id": "569b8fb1be7d498cb3cd501059cd8164"
      }
     },
     "metadata": {},
     "output_type": "display_data"
    },
    {
     "name": "stdout",
     "output_type": "stream",
     "text": [
      "Epoch validation loss: 0.02373\n",
      "Epoch validation metric: 0.02373\n",
      "Best epoch DICE value is 0.0174 on 13 epoch\n",
      "------------------------------\n",
      "Epoch 17/20\n"
     ]
    },
    {
     "data": {
      "text/plain": [
       "Training:   0%|          | 0/13 [00:00<?, ?it/s]"
      ],
      "application/vnd.jupyter.widget-view+json": {
       "version_major": 2,
       "version_minor": 0,
       "model_id": "957a4136f9284c92a4aceec17abc1ce4"
      }
     },
     "metadata": {},
     "output_type": "display_data"
    },
    {
     "name": "stdout",
     "output_type": "stream",
     "text": [
      "Epoch train loss: 0.01614\n",
      "Epoch train metric: 0.01614\n"
     ]
    },
    {
     "data": {
      "text/plain": [
       "Validation:   0%|          | 0/13 [00:00<?, ?it/s]"
      ],
      "application/vnd.jupyter.widget-view+json": {
       "version_major": 2,
       "version_minor": 0,
       "model_id": "889a7555f4f04f24b9ead01f8e71ac1f"
      }
     },
     "metadata": {},
     "output_type": "display_data"
    },
    {
     "name": "stdout",
     "output_type": "stream",
     "text": [
      "Epoch validation loss: 0.01959\n",
      "Epoch validation metric: 0.01959\n",
      "Best epoch DICE value is 0.0174 on 13 epoch\n",
      "------------------------------\n",
      "Epoch 18/20\n"
     ]
    },
    {
     "data": {
      "text/plain": [
       "Training:   0%|          | 0/13 [00:00<?, ?it/s]"
      ],
      "application/vnd.jupyter.widget-view+json": {
       "version_major": 2,
       "version_minor": 0,
       "model_id": "a9f2f773fdde4bf18c8ed8d11bd66b82"
      }
     },
     "metadata": {},
     "output_type": "display_data"
    },
    {
     "name": "stdout",
     "output_type": "stream",
     "text": [
      "Epoch train loss: 0.01636\n",
      "Epoch train metric: 0.01636\n"
     ]
    },
    {
     "data": {
      "text/plain": [
       "Validation:   0%|          | 0/13 [00:00<?, ?it/s]"
      ],
      "application/vnd.jupyter.widget-view+json": {
       "version_major": 2,
       "version_minor": 0,
       "model_id": "95f434bd5b214feb84a24d48f65f5af4"
      }
     },
     "metadata": {},
     "output_type": "display_data"
    },
    {
     "name": "stdout",
     "output_type": "stream",
     "text": [
      "Epoch validation loss: 0.01665\n",
      "Epoch validation metric: 0.01665\n",
      "Best epoch DICE value is 0.0166 on 18 epoch\n",
      "------------------------------\n",
      "Epoch 19/20\n"
     ]
    },
    {
     "data": {
      "text/plain": [
       "Training:   0%|          | 0/13 [00:00<?, ?it/s]"
      ],
      "application/vnd.jupyter.widget-view+json": {
       "version_major": 2,
       "version_minor": 0,
       "model_id": "695bc7f6f3cb4d60bf192e4f724cf1eb"
      }
     },
     "metadata": {},
     "output_type": "display_data"
    },
    {
     "name": "stdout",
     "output_type": "stream",
     "text": [
      "Epoch train loss: 0.01604\n",
      "Epoch train metric: 0.01604\n"
     ]
    },
    {
     "data": {
      "text/plain": [
       "Validation:   0%|          | 0/13 [00:00<?, ?it/s]"
      ],
      "application/vnd.jupyter.widget-view+json": {
       "version_major": 2,
       "version_minor": 0,
       "model_id": "7ec189e586914882966fd2af26805362"
      }
     },
     "metadata": {},
     "output_type": "display_data"
    },
    {
     "name": "stdout",
     "output_type": "stream",
     "text": [
      "Epoch validation loss: 0.01948\n",
      "Epoch validation metric: 0.01948\n",
      "Best epoch DICE value is 0.0166 on 18 epoch\n"
     ]
    }
   ],
   "execution_count": 25
  },
  {
   "cell_type": "markdown",
   "id": "51fab484-d2b8-40db-a141-4d7c4eaeb8e8",
   "metadata": {},
   "source": [
    "## Загрузим и протестируем обученную модель"
   ]
  },
  {
   "cell_type": "code",
   "id": "c8beaea3-83c6-4f8f-a3f4-392898f18ee4",
   "metadata": {
    "ExecuteTime": {
     "end_time": "2024-05-11T09:21:28.194250Z",
     "start_time": "2024-05-11T09:21:28.046672Z"
    }
   },
   "source": [
    "model = UNet(in_channels=3, out_channels=1)\n",
    "model = load_checkpoint(\n",
    "    model=model, load_path=pjoin(CHECKPOINTS_DIR, \"model_checkpoint_best.pt\")\n",
    ")\n",
    "model = model.to(DEVICE)\n",
    "model.eval()"
   ],
   "outputs": [
    {
     "data": {
      "text/plain": [
       "UNet(\n",
       "  (in_conv): DoubleConv(\n",
       "    (double_conv): Sequential(\n",
       "      (0): Conv2d(3, 64, kernel_size=(3, 3), stride=(1, 1), padding=(1, 1), bias=False)\n",
       "      (1): BatchNorm2d(64, eps=1e-05, momentum=0.1, affine=True, track_running_stats=True)\n",
       "      (2): LeakyReLU(negative_slope=0.01, inplace=True)\n",
       "      (3): Conv2d(64, 64, kernel_size=(3, 3), stride=(1, 1), padding=(1, 1), bias=False)\n",
       "      (4): BatchNorm2d(64, eps=1e-05, momentum=0.1, affine=True, track_running_stats=True)\n",
       "      (5): LeakyReLU(negative_slope=0.01, inplace=True)\n",
       "    )\n",
       "  )\n",
       "  (down1): _Down(\n",
       "    (maxpool_conv): Sequential(\n",
       "      (0): MaxPool2d(kernel_size=2, stride=2, padding=0, dilation=1, ceil_mode=False)\n",
       "      (1): DoubleConv(\n",
       "        (double_conv): Sequential(\n",
       "          (0): Conv2d(64, 128, kernel_size=(3, 3), stride=(1, 1), padding=(1, 1), bias=False)\n",
       "          (1): BatchNorm2d(128, eps=1e-05, momentum=0.1, affine=True, track_running_stats=True)\n",
       "          (2): LeakyReLU(negative_slope=0.01, inplace=True)\n",
       "          (3): Conv2d(128, 128, kernel_size=(3, 3), stride=(1, 1), padding=(1, 1), bias=False)\n",
       "          (4): BatchNorm2d(128, eps=1e-05, momentum=0.1, affine=True, track_running_stats=True)\n",
       "          (5): LeakyReLU(negative_slope=0.01, inplace=True)\n",
       "        )\n",
       "      )\n",
       "    )\n",
       "  )\n",
       "  (down2): _Down(\n",
       "    (maxpool_conv): Sequential(\n",
       "      (0): MaxPool2d(kernel_size=2, stride=2, padding=0, dilation=1, ceil_mode=False)\n",
       "      (1): DoubleConv(\n",
       "        (double_conv): Sequential(\n",
       "          (0): Conv2d(128, 256, kernel_size=(3, 3), stride=(1, 1), padding=(1, 1), bias=False)\n",
       "          (1): BatchNorm2d(256, eps=1e-05, momentum=0.1, affine=True, track_running_stats=True)\n",
       "          (2): LeakyReLU(negative_slope=0.01, inplace=True)\n",
       "          (3): Conv2d(256, 256, kernel_size=(3, 3), stride=(1, 1), padding=(1, 1), bias=False)\n",
       "          (4): BatchNorm2d(256, eps=1e-05, momentum=0.1, affine=True, track_running_stats=True)\n",
       "          (5): LeakyReLU(negative_slope=0.01, inplace=True)\n",
       "        )\n",
       "      )\n",
       "    )\n",
       "  )\n",
       "  (down3): _Down(\n",
       "    (maxpool_conv): Sequential(\n",
       "      (0): MaxPool2d(kernel_size=2, stride=2, padding=0, dilation=1, ceil_mode=False)\n",
       "      (1): DoubleConv(\n",
       "        (double_conv): Sequential(\n",
       "          (0): Conv2d(256, 512, kernel_size=(3, 3), stride=(1, 1), padding=(1, 1), bias=False)\n",
       "          (1): BatchNorm2d(512, eps=1e-05, momentum=0.1, affine=True, track_running_stats=True)\n",
       "          (2): LeakyReLU(negative_slope=0.01, inplace=True)\n",
       "          (3): Conv2d(512, 512, kernel_size=(3, 3), stride=(1, 1), padding=(1, 1), bias=False)\n",
       "          (4): BatchNorm2d(512, eps=1e-05, momentum=0.1, affine=True, track_running_stats=True)\n",
       "          (5): LeakyReLU(negative_slope=0.01, inplace=True)\n",
       "        )\n",
       "      )\n",
       "    )\n",
       "  )\n",
       "  (down4): _Down(\n",
       "    (maxpool_conv): Sequential(\n",
       "      (0): MaxPool2d(kernel_size=2, stride=2, padding=0, dilation=1, ceil_mode=False)\n",
       "      (1): DoubleConv(\n",
       "        (double_conv): Sequential(\n",
       "          (0): Conv2d(512, 512, kernel_size=(3, 3), stride=(1, 1), padding=(1, 1), bias=False)\n",
       "          (1): BatchNorm2d(512, eps=1e-05, momentum=0.1, affine=True, track_running_stats=True)\n",
       "          (2): LeakyReLU(negative_slope=0.01, inplace=True)\n",
       "          (3): Conv2d(512, 512, kernel_size=(3, 3), stride=(1, 1), padding=(1, 1), bias=False)\n",
       "          (4): BatchNorm2d(512, eps=1e-05, momentum=0.1, affine=True, track_running_stats=True)\n",
       "          (5): LeakyReLU(negative_slope=0.01, inplace=True)\n",
       "        )\n",
       "      )\n",
       "    )\n",
       "  )\n",
       "  (up1): _Up(\n",
       "    (up): Upsample(scale_factor=2.0, mode='bilinear')\n",
       "    (conv): DoubleConv(\n",
       "      (double_conv): Sequential(\n",
       "        (0): Conv2d(1024, 512, kernel_size=(3, 3), stride=(1, 1), padding=(1, 1), bias=False)\n",
       "        (1): BatchNorm2d(512, eps=1e-05, momentum=0.1, affine=True, track_running_stats=True)\n",
       "        (2): LeakyReLU(negative_slope=0.01, inplace=True)\n",
       "        (3): Conv2d(512, 256, kernel_size=(3, 3), stride=(1, 1), padding=(1, 1), bias=False)\n",
       "        (4): BatchNorm2d(256, eps=1e-05, momentum=0.1, affine=True, track_running_stats=True)\n",
       "        (5): LeakyReLU(negative_slope=0.01, inplace=True)\n",
       "      )\n",
       "    )\n",
       "  )\n",
       "  (up2): _Up(\n",
       "    (up): Upsample(scale_factor=2.0, mode='bilinear')\n",
       "    (conv): DoubleConv(\n",
       "      (double_conv): Sequential(\n",
       "        (0): Conv2d(512, 256, kernel_size=(3, 3), stride=(1, 1), padding=(1, 1), bias=False)\n",
       "        (1): BatchNorm2d(256, eps=1e-05, momentum=0.1, affine=True, track_running_stats=True)\n",
       "        (2): LeakyReLU(negative_slope=0.01, inplace=True)\n",
       "        (3): Conv2d(256, 128, kernel_size=(3, 3), stride=(1, 1), padding=(1, 1), bias=False)\n",
       "        (4): BatchNorm2d(128, eps=1e-05, momentum=0.1, affine=True, track_running_stats=True)\n",
       "        (5): LeakyReLU(negative_slope=0.01, inplace=True)\n",
       "      )\n",
       "    )\n",
       "  )\n",
       "  (up3): _Up(\n",
       "    (up): Upsample(scale_factor=2.0, mode='bilinear')\n",
       "    (conv): DoubleConv(\n",
       "      (double_conv): Sequential(\n",
       "        (0): Conv2d(256, 128, kernel_size=(3, 3), stride=(1, 1), padding=(1, 1), bias=False)\n",
       "        (1): BatchNorm2d(128, eps=1e-05, momentum=0.1, affine=True, track_running_stats=True)\n",
       "        (2): LeakyReLU(negative_slope=0.01, inplace=True)\n",
       "        (3): Conv2d(128, 64, kernel_size=(3, 3), stride=(1, 1), padding=(1, 1), bias=False)\n",
       "        (4): BatchNorm2d(64, eps=1e-05, momentum=0.1, affine=True, track_running_stats=True)\n",
       "        (5): LeakyReLU(negative_slope=0.01, inplace=True)\n",
       "      )\n",
       "    )\n",
       "  )\n",
       "  (up4): _Up(\n",
       "    (up): Upsample(scale_factor=2.0, mode='bilinear')\n",
       "    (conv): DoubleConv(\n",
       "      (double_conv): Sequential(\n",
       "        (0): Conv2d(128, 64, kernel_size=(3, 3), stride=(1, 1), padding=(1, 1), bias=False)\n",
       "        (1): BatchNorm2d(64, eps=1e-05, momentum=0.1, affine=True, track_running_stats=True)\n",
       "        (2): LeakyReLU(negative_slope=0.01, inplace=True)\n",
       "        (3): Conv2d(64, 64, kernel_size=(3, 3), stride=(1, 1), padding=(1, 1), bias=False)\n",
       "        (4): BatchNorm2d(64, eps=1e-05, momentum=0.1, affine=True, track_running_stats=True)\n",
       "        (5): LeakyReLU(negative_slope=0.01, inplace=True)\n",
       "      )\n",
       "    )\n",
       "  )\n",
       "  (out_conv): OutConv(\n",
       "    (conv): Conv2d(64, 2, kernel_size=(1, 1), stride=(1, 1))\n",
       "  )\n",
       ")"
      ]
     },
     "execution_count": 27,
     "metadata": {},
     "output_type": "execute_result"
    }
   ],
   "execution_count": 27
  },
  {
   "metadata": {
    "ExecuteTime": {
     "end_time": "2024-05-11T09:29:44.285882Z",
     "start_time": "2024-05-11T09:29:44.282291Z"
    }
   },
   "cell_type": "code",
   "source": "",
   "id": "90c6662b85add787",
   "outputs": [
    {
     "data": {
      "text/plain": [
       "torch.Size([3, 256, 256])"
      ]
     },
     "execution_count": 37,
     "metadata": {},
     "output_type": "execute_result"
    }
   ],
   "execution_count": 37
  },
  {
   "metadata": {
    "ExecuteTime": {
     "end_time": "2024-05-11T09:27:48.039291Z",
     "start_time": "2024-05-11T09:27:47.702678Z"
    }
   },
   "cell_type": "code",
   "source": "model(image.unsqueeze(0).to(DEVICE))[0].shape",
   "id": "394d8e6b967c8e85",
   "outputs": [
    {
     "data": {
      "text/plain": [
       "torch.Size([2, 256, 256])"
      ]
     },
     "execution_count": 33,
     "metadata": {},
     "output_type": "execute_result"
    }
   ],
   "execution_count": 33
  },
  {
   "cell_type": "code",
   "id": "a64c5c6b-7631-4816-93cb-8156f055810c",
   "metadata": {
    "ExecuteTime": {
     "end_time": "2024-05-11T09:31:43.738462Z",
     "start_time": "2024-05-11T09:31:43.023856Z"
    }
   },
   "source": [
    "sample_idx = 1\n",
    "image, target = train_dataset[sample_idx]\n",
    "thresold = 0.54\n",
    "preds = F.sigmoid(model(image.unsqueeze(0).to(DEVICE))).squeeze(0)\n",
    "binary_preds = (preds > thresold)\n",
    "fig, ax = plt.subplots(1, 3, figsize=(9, 18))\n",
    "ax[0].imshow(image.numpy().transpose(1, 2, 0).astype(np.uint8))\n",
    "ax[1].imshow(target.numpy().transpose(1, 2, 0).astype(np.uint8))\n",
    "ax[2].imshow(binary_preds.cpu().numpy());"
   ],
   "outputs": [
    {
     "data": {
      "text/plain": [
       "<Figure size 900x1800 with 3 Axes>"
      ],
      "image/png": "[encoded data removed]"
     },
     "metadata": {},
     "output_type": "display_data"
    }
   ],
   "execution_count": 40
  },
  {
   "cell_type": "code",
   "id": "890f047a-20ad-4b06-a409-d8f7da5a2e8d",
   "metadata": {},
   "source": [],
   "outputs": [],
   "execution_count": null
  }
 ],
 "metadata": {
  "kernelspec": {
   "display_name": "Python 3 (ipykernel)",
   "language": "python",
   "name": "python3"
  },
  "language_info": {
   "codemirror_mode": {
    "name": "ipython",
    "version": 3
   },
   "file_extension": ".py",
   "mimetype": "text/x-python",
   "name": "python",
   "nbconvert_exporter": "python",
   "pygments_lexer": "ipython3",
   "version": "3.11.5"
  }
 },
 "nbformat": 4,
 "nbformat_minor": 5
}
